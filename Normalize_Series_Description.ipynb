{
 "cells": [
  {
   "cell_type": "code",
   "execution_count": 1,
   "metadata": {},
   "outputs": [],
   "source": [
    "# Simple Jupyter Notebook for normalizing DICOM Study Description\n",
    "#\n",
    "# Author: Paulo Kuriki"
   ]
  },
  {
   "cell_type": "code",
   "execution_count": 2,
   "metadata": {},
   "outputs": [],
   "source": [
    "import numpy as np\n",
    "import pandas as pd"
   ]
  },
  {
   "cell_type": "code",
   "execution_count": 3,
   "metadata": {},
   "outputs": [],
   "source": [
    "# defining constants\n",
    "GAD = ['POS', '+C', 'GD', 'GAD', ' CE', '_CE']\n",
    "GAD_EXCLUSION = ['SEM', '/S', 'S/', 'PRE']\n",
    "T1 = ['T1']\n",
    "T2 = ['T2']\n",
    "FLAIR = ['FLAIR']\n",
    "SWI = ['SWI', 'SWAN', 'T2 GRE', 'T2*']\n",
    "FIESTA = ['FIESTA', 'CISS', 'BALANCE', 'DRIVE']\n",
    "TOF = ['TOF']\n",
    "DWI = ['DIF', 'DWI', 'TRACE']\n",
    "DWI_EXCLUSION = ['ADC', 'APP', 'EXP']\n",
    "MPR = ['MPR']\n",
    "ANGIO = ['VEN']\n",
    "PRIMARY = ['ORIGINAL', 'PRIMARY']\n",
    "SAG = ['SAG']\n",
    "AXI = ['AX']\n",
    "COR = ['COR']\n",
    "FATSAT = ['STIR', 'FS', 'FAT', 'SAT']"
   ]
  },
  {
   "cell_type": "code",
   "execution_count": 4,
   "metadata": {},
   "outputs": [],
   "source": [
    "def search_words_in_series(series_description: str, search_words: list, exclusion_words: list = []) -> bool:\n",
    "\n",
    "    if series_description is np.nan:\n",
    "        return False\n",
    "    \n",
    "    try:\n",
    "        search_flag = False\n",
    "        for word in search_words:\n",
    "            if word.upper() in series_description.upper():\n",
    "                search_flag = True\n",
    "                break\n",
    "    except Exception as e:\n",
    "        print(f\"Error searching for inclusion list {search_words} in the series description {series_description}\")\n",
    "        return False\n",
    "\n",
    "    try:\n",
    "        exclusion_flag = False\n",
    "        for word in exclusion_words:\n",
    "            if word.upper() in series_description.upper():\n",
    "                exclusion_flag = True\n",
    "                break\n",
    "    except Exception as e:\n",
    "        print(f\"Error searching for exclusion list {exclusion_words} in the series description {series_description}\")\n",
    "        return  False\n",
    "\n",
    "    found = search_flag and exclusion_flag is False\n",
    "\n",
    "    return found"
   ]
  },
  {
   "cell_type": "code",
   "execution_count": 5,
   "metadata": {},
   "outputs": [],
   "source": [
    "def IOP_Plane(IOP: list) -> str:\n",
    "    \"\"\"\n",
    "    This function takes IOP of an image and returns its plane (Sagittal, Coronal, Transverse)\n",
    "    ['1', '0', '0', '0', '0', '-1'] you are dealing with Coronal plane view\n",
    "    ['0', '1', '0', '0', '0', '-1'] you are dealing with Sagittal plane view\n",
    "    ['1', '0', '0', '0', '1', '0'] you are dealing with Axial plane view\n",
    "    \n",
    "    Useful when you would like to discover the plane based on the DICOM acquisition\n",
    "    \"\"\"\n",
    "\n",
    "    try:\n",
    "        IOP_round = [round(x) for x in IOP]\n",
    "        plane = np.cross(IOP_round[0:3], IOP_round[3:6])\n",
    "        plane = [abs(x) for x in plane]\n",
    "        if plane[0] == 1:\n",
    "            return \"SAG\"\n",
    "        elif plane[1] == 1:\n",
    "            return \"COR\"\n",
    "        elif plane[2] == 1:\n",
    "            return \"AXI\"\n",
    "        else:\n",
    "            return \"UNK\"\n",
    "    except:\n",
    "        return \"UNK\""
   ]
  },
  {
   "cell_type": "code",
   "execution_count": 6,
   "metadata": {},
   "outputs": [],
   "source": [
    "def normalize_series_description(series_description: str):\n",
    "    \n",
    "    # searching for image plane in series descriptions\n",
    "    if search_words_in_series(series_description, AXI):\n",
    "        plane = 'AXI'\n",
    "    elif search_words_in_series(series_description, SAG):\n",
    "        plane = 'SAG'\n",
    "    elif search_words_in_series(series_description, COR):\n",
    "        plane = 'COR'\n",
    "    else:\n",
    "        plane = 'UNK'\n",
    "    \n",
    "    # searching for image weight in series descriptions\n",
    "    if search_words_in_series(series_description, FATSAT, T1):\n",
    "        weight = 'STIR'\n",
    "    elif search_words_in_series(series_description, FATSAT, T2):\n",
    "        weight = 'T1 FS'\n",
    "    elif search_words_in_series(series_description, FLAIR, T1):\n",
    "        weight = 'FLAIR'\n",
    "    elif search_words_in_series(series_description, SWI):\n",
    "        weight = 'SWI'\n",
    "    elif search_words_in_series(series_description, FIESTA):\n",
    "        weight = 'FIESTA'\n",
    "    elif search_words_in_series(series_description, T2, T1):\n",
    "        weight = 'T2'\n",
    "    elif search_words_in_series(series_description, T1, T2):\n",
    "        weight = 'T1'\n",
    "    else:\n",
    "        weight = 'UNK'\n",
    "        \n",
    "    # searching for constrast in series descriptions\n",
    "    if search_words_in_series(series_description, GAD):\n",
    "        gad = ' GD'    \n",
    "    else:\n",
    "        gad = ''\n",
    "    \n",
    "    \n",
    "    return f'{plane} {weight}{gad}'    \n",
    "    "
   ]
  },
  {
   "cell_type": "code",
   "execution_count": 7,
   "metadata": {},
   "outputs": [
    {
     "data": {
      "text/plain": [
       "'COR T1 FS GD'"
      ]
     },
     "execution_count": 7,
     "metadata": {},
     "output_type": "execute_result"
    }
   ],
   "source": [
    "# simples use cases\n",
    "\n",
    "# 1. calling as a simple function\n",
    "normalize_series_description('COR T1 FAT GAD')"
   ]
  },
  {
   "cell_type": "code",
   "execution_count": null,
   "metadata": {},
   "outputs": [],
   "source": [
    "# 2. creating a new normalized series description column in your pandas DataFrame\n",
    "# \n",
    "df['norm_series'] = [normalize_series_description(x) for x in df['description']]"
   ]
  }
 ],
 "metadata": {
  "kernelspec": {
   "display_name": "Python 3",
   "language": "python",
   "name": "python3"
  },
  "language_info": {
   "codemirror_mode": {
    "name": "ipython",
    "version": 3
   },
   "file_extension": ".py",
   "mimetype": "text/x-python",
   "name": "python",
   "nbconvert_exporter": "python",
   "pygments_lexer": "ipython3",
   "version": "3.8.5"
  }
 },
 "nbformat": 4,
 "nbformat_minor": 2
}
